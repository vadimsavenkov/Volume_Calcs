{
 "cells": [
  {
   "cell_type": "markdown",
   "id": "d8fb688f",
   "metadata": {},
   "source": [
    "## Natural Gas Deliverability Problem"
   ]
  },
  {
   "cell_type": "code",
   "execution_count": 1,
   "id": "7a7b818a",
   "metadata": {},
   "outputs": [],
   "source": [
    "#The following information about a newly discovered sweet, dry gas pool in a Devonian reef is provided"
   ]
  },
  {
   "cell_type": "markdown",
   "id": "4319f17c",
   "metadata": {},
   "source": [
    "### Parameters"
   ]
  },
  {
   "cell_type": "code",
   "execution_count": null,
   "id": "73dce909",
   "metadata": {},
   "outputs": [],
   "source": [
    "# planimetered rock volume = 93,064 acre-feet (area = 6,400 acres) \n",
    "# weighted average pool porosity, φ = 23% \n",
    "# weighted average water saturation, Sw = 20% \n",
    "# average pool depth = 6,000 feet \n",
    "# initial reservoir pressure, pi = 2,600 psia \n",
    "# no gas analysis, but gas density, Yg = 0.65 "
   ]
  },
  {
   "cell_type": "code",
   "execution_count": null,
   "id": "7135d92c",
   "metadata": {},
   "outputs": [],
   "source": [
    "#The key difference between sweet and sour natural gas is that the sweet natural gas contains trace amounts of hydrogen sulfide,\n",
    "#whereas the sour natural gas contains large amounts of hydrogen sulfide. Moreover, sweet natural gas is non-corrosive, \n",
    "#less acidic, and requires little refining."
   ]
  },
  {
   "cell_type": "markdown",
   "id": "1c694954",
   "metadata": {},
   "source": [
    "### Calculate original raw gas-in-place and original recoverable raw gas-in-place."
   ]
  },
  {
   "cell_type": "code",
   "execution_count": 17,
   "id": "c67ec81f",
   "metadata": {},
   "outputs": [],
   "source": [
    "#Use Brown(1984) or Joshi(1991) correlation??\n",
    "\n",
    "def pseudocritical_parameters(gas_density):\n",
    "    Ppc = 708.75 - 57.5 * gas_density\n",
    "    Tpc = 169 + 314 * gas_density\n",
    "    return Ppc, Tpc"
   ]
  },
  {
   "cell_type": "code",
   "execution_count": 19,
   "id": "e392d7ac",
   "metadata": {},
   "outputs": [
    {
     "data": {
      "text/plain": [
       "(671.375, 373.1)"
      ]
     },
     "execution_count": 19,
     "metadata": {},
     "output_type": "execute_result"
    }
   ],
   "source": [
    "pseudocritical_parameters(0.65)"
   ]
  },
  {
   "cell_type": "code",
   "execution_count": null,
   "id": "4cc97f7c",
   "metadata": {},
   "outputs": [],
   "source": [
    "#Use Abandonment Pressure rule of thumb!\n",
    "\n",
    "#Pa = 35 psia + 35 psia of depth (Field) \n",
    "#1,000 feet \n",
    "#or \n",
    "#Pa = 240 kPaa + 80 kPaa of depth (SI) \n",
    "#100 m"
   ]
  },
  {
   "cell_type": "code",
   "execution_count": 20,
   "id": "b8c9ae15",
   "metadata": {},
   "outputs": [],
   "source": [
    "def abandonment_pressure(average_depth):\n",
    "    Pa = 35 + 35/1000 * average_depth\n",
    "    return Pa"
   ]
  },
  {
   "cell_type": "code",
   "execution_count": 26,
   "id": "6c083a3e",
   "metadata": {},
   "outputs": [
    {
     "name": "stdout",
     "output_type": "stream",
     "text": [
      "245.0 Psi\n"
     ]
    }
   ],
   "source": [
    "print(round(abandonment_pressure(6000),2), \"Psi\")"
   ]
  },
  {
   "cell_type": "code",
   "execution_count": 4,
   "id": "fe681ad8",
   "metadata": {},
   "outputs": [
    {
     "name": "stdout",
     "output_type": "stream",
     "text": [
      "3.88 0.37\n"
     ]
    }
   ],
   "source": [
    "#Calculate pseudoreduced pressures and temperature\n",
    "#Use temperature gradients for reference depth(Tf = 150 °F, 610 °R)\n",
    "\n",
    "def pseudoreduced_initial_pressure(initial_res_pres, pseudocrit_pres):\n",
    "    Ppri = initial_res_pres/pseudocrit_pres\n",
    "    return Ppri\n",
    "\n",
    "def pseudoreduced_abandon_pressure(abandon_pres, pseudocrit_pres):\n",
    "    Ppra = abandon_pres/pseudocrit_pres\n",
    "    return Ppra\n",
    "print(round(pseudoreduced_initial_pressure(2600, 670),2), round(pseudoreduced_abandon_pressure(245, 670),2))"
   ]
  },
  {
   "cell_type": "code",
   "execution_count": null,
   "id": "c91fb529",
   "metadata": {},
   "outputs": [],
   "source": [
    "#Use link https://petrolcalc.blogspot.com/2015/07/standing-and-katz-z-chart-reader.html"
   ]
  },
  {
   "cell_type": "code",
   "execution_count": 3,
   "id": "037ff5e9",
   "metadata": {},
   "outputs": [
    {
     "data": {
      "text/plain": [
       "1.64"
      ]
     },
     "execution_count": 3,
     "metadata": {},
     "output_type": "execute_result"
    }
   ],
   "source": [
    "def pseudoreduced_temperature(temp_grad, pseudocrit_temp):\n",
    "    Tpr = temp_grad/pseudocrit_temp\n",
    "    return Tpr\n",
    "\n",
    "round(pseudoreduced_temperature(610, 373),2)"
   ]
  },
  {
   "cell_type": "code",
   "execution_count": null,
   "id": "bae7a6d2",
   "metadata": {},
   "outputs": [],
   "source": [
    "#Use link https://petrolcalc.blogspot.com/2015/07/standing-and-katz-z-chart-reader.html \n",
    "#to determine compressibility factor(zi and za)\n",
    "# zi = 0.83 and za = 0.97"
   ]
  },
  {
   "cell_type": "code",
   "execution_count": null,
   "id": "1d797aaa",
   "metadata": {},
   "outputs": [],
   "source": [
    "#Original Raw Gas-in-Place (ORGIP) = \n",
    "#43,560* × A × h × Ø × (1−Swi) _________________________, standard cubic feet (scf) (3.3) Bgi\n",
    "#where A = drainage area, acres (1 acre = 43,560 square feet) \n",
    "#h = net pay thickness, feet \n",
    "#[note: A × h = Vb, Rock (or Bulk) Volume, acre-feet] \n",
    "#Ø = porosity, fraction \n",
    "#Swi = connate water saturation at initial conditions, fraction \n",
    "#Bgi = natural gas formation volume factor (FVF) at initial conditions, ft3/scf \n",
    "#*Use 43.56 for units of Mscf or 0.04356 for units of MMscf."
   ]
  },
  {
   "cell_type": "code",
   "execution_count": 19,
   "id": "094051ed",
   "metadata": {},
   "outputs": [
    {
     "data": {
      "text/plain": [
       "182.28"
      ]
     },
     "execution_count": 19,
     "metadata": {},
     "output_type": "execute_result"
    }
   ],
   "source": [
    "# Calculate Natural Gas Formation Volume Factor (Bg) \n",
    "\n",
    "#1/Bg = (520/14.65 * Tf)*p/z \n",
    "\n",
    "def ogas_FVF (temp_grad, init_press, comp_fac):\n",
    "    GFVF = 520/(14.65 * temp_grad) * init_press/comp_fac\n",
    "    return GFVF\n",
    "\n",
    "round(ogas_FVF(610, 2600, 0.83),2)"
   ]
  },
  {
   "cell_type": "code",
   "execution_count": 20,
   "id": "c44f3b83",
   "metadata": {},
   "outputs": [
    {
     "name": "stdout",
     "output_type": "stream",
     "text": [
      "135.96 Bcf\n"
     ]
    }
   ],
   "source": [
    "def Original_Raw_Gas_In_Place (rock_volume, porosity, water_saturation):\n",
    "    ORGIP = 0.00004356 * rock_volume * porosity * (1-water_saturation) * 182.28\n",
    "    return ORGIP\n",
    "print(round(Original_Raw_Gas_In_Place (93064, 0.23, 0.2),2), \"Bcf\")"
   ]
  },
  {
   "cell_type": "code",
   "execution_count": null,
   "id": "25f30ad8",
   "metadata": {},
   "outputs": [],
   "source": [
    "def rgas_FVF (temp_grad, init_press, comp_fac, aband_press, aband_comp):\n",
    "    GFVF = 520/(14.65 * temp_grad) * (init_press/comp_fac - aband/press/aband_comp)\n",
    "    return GFVF\n",
    "\n",
    "round(rgas_FVF(610, 2600, 0.83),2)"
   ]
  }
 ],
 "metadata": {
  "kernelspec": {
   "display_name": "Python 3 (ipykernel)",
   "language": "python",
   "name": "python3"
  },
  "language_info": {
   "codemirror_mode": {
    "name": "ipython",
    "version": 3
   },
   "file_extension": ".py",
   "mimetype": "text/x-python",
   "name": "python",
   "nbconvert_exporter": "python",
   "pygments_lexer": "ipython3",
   "version": "3.9.7"
  }
 },
 "nbformat": 4,
 "nbformat_minor": 5
}
