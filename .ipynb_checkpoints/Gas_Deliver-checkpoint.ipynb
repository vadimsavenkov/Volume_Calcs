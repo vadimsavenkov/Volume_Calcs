{
 "cells": [
  {
   "cell_type": "markdown",
   "id": "d8fb688f",
   "metadata": {},
   "source": [
    "## Natural Gas Deliverability Problem"
   ]
  },
  {
   "cell_type": "code",
   "execution_count": 1,
   "id": "7a7b818a",
   "metadata": {},
   "outputs": [],
   "source": [
    "#The following information about a newly discovered sweet, dry gas pool in a Devonian reef is provided"
   ]
  },
  {
   "cell_type": "markdown",
   "id": "4319f17c",
   "metadata": {},
   "source": [
    "### Parameters"
   ]
  },
  {
   "cell_type": "code",
   "execution_count": null,
   "id": "73dce909",
   "metadata": {},
   "outputs": [],
   "source": [
    "# planimetered rock volume = 93,064 acre-feet (area = 6,400 acres) \n",
    "# weighted average pool porosity, φ = 23% \n",
    "# weighted average water saturation, Sw = 20% \n",
    "# average pool depth = 6,000 feet \n",
    "# initial reservoir pressure, pi = 2,600 psia \n",
    "# no gas analysis, but gas density, Yg = 0.65 "
   ]
  },
  {
   "cell_type": "code",
   "execution_count": null,
   "id": "7135d92c",
   "metadata": {},
   "outputs": [],
   "source": [
    "#The key difference between sweet and sour natural gas is that the sweet natural gas contains trace amounts of hydrogen sulfide,\n",
    "#whereas the sour natural gas contains large amounts of hydrogen sulfide. Moreover, sweet natural gas is non-corrosive, \n",
    "#less acidic, and requires little refining."
   ]
  },
  {
   "cell_type": "markdown",
   "id": "1c694954",
   "metadata": {},
   "source": [
    "### Calculate original raw gas-in-place and original recoverable raw gas-in-place."
   ]
  },
  {
   "cell_type": "code",
   "execution_count": 17,
   "id": "c67ec81f",
   "metadata": {},
   "outputs": [],
   "source": [
    "#Use Brown(1984) or Joshi(1991) correlation??\n",
    "\n",
    "def pseudocritical_parameters(gas_density):\n",
    "    Ppc = 708.75 - 57.5 * gas_density\n",
    "    Tpc = 169 + 314 * gas_density\n",
    "    return Ppc, Tpc"
   ]
  },
  {
   "cell_type": "code",
   "execution_count": 19,
   "id": "e392d7ac",
   "metadata": {},
   "outputs": [
    {
     "data": {
      "text/plain": [
       "(671.375, 373.1)"
      ]
     },
     "execution_count": 19,
     "metadata": {},
     "output_type": "execute_result"
    }
   ],
   "source": [
    "pseudocritical_parameters(0.65)"
   ]
  },
  {
   "cell_type": "code",
   "execution_count": null,
   "id": "4cc97f7c",
   "metadata": {},
   "outputs": [],
   "source": [
    "#Use Abandonment Pressure rule of thumb!\n",
    "\n",
    "#Pa = 35 psia + 35 psia of depth (Field) \n",
    "#1,000 feet \n",
    "#or \n",
    "#Pa = 240 kPaa + 80 kPaa of depth (SI) \n",
    "#100 m"
   ]
  },
  {
   "cell_type": "code",
   "execution_count": 20,
   "id": "b8c9ae15",
   "metadata": {},
   "outputs": [],
   "source": [
    "def abandonment_pressure(average_depth):\n",
    "    Pa = 35 + 35/1000 * average_depth\n",
    "    return Pa"
   ]
  },
  {
   "cell_type": "code",
   "execution_count": 26,
   "id": "6c083a3e",
   "metadata": {},
   "outputs": [
    {
     "name": "stdout",
     "output_type": "stream",
     "text": [
      "245.0 Psi\n"
     ]
    }
   ],
   "source": [
    "print(round(abandonment_pressure(6000),2), \"Psi\")"
   ]
  },
  {
   "cell_type": "code",
   "execution_count": 4,
   "id": "fe681ad8",
   "metadata": {},
   "outputs": [
    {
     "name": "stdout",
     "output_type": "stream",
     "text": [
      "3.88 0.37\n"
     ]
    }
   ],
   "source": [
    "#Calculate pseudoreduced pressures and temperature\n",
    "#Use temperature gradients for reference depth(Tf = 150 °F, 610 °R)\n",
    "\n",
    "def pseudoreduced_initial_pressure(initial_res_pres, pseudocrit_pres):\n",
    "    Ppri = initial_res_pres/pseudocrit_pres\n",
    "    return Ppri\n",
    "\n",
    "def pseudoreduced_abandon_pressure(abandon_pres, pseudocrit_pres):\n",
    "    Ppra = abandon_pres/pseudocrit_pres\n",
    "    return Ppra\n",
    "print(round(pseudoreduced_initial_pressure(2600, 670),2), round(pseudoreduced_abandon_pressure(245, 670),2))"
   ]
  },
  {
   "cell_type": "code",
   "execution_count": null,
   "id": "c91fb529",
   "metadata": {},
   "outputs": [],
   "source": []
  },
  {
   "cell_type": "code",
   "execution_count": 3,
   "id": "037ff5e9",
   "metadata": {},
   "outputs": [
    {
     "data": {
      "text/plain": [
       "1.64"
      ]
     },
     "execution_count": 3,
     "metadata": {},
     "output_type": "execute_result"
    }
   ],
   "source": [
    "def pseudoreduced_temperature(temp_grad, pseudocrit_temp):\n",
    "    Tpr = temp_grad/pseudocrit_temp\n",
    "    return Tpr\n",
    "\n",
    "round(pseudoreduced_temperature(610, 373),2)"
   ]
  },
  {
   "cell_type": "code",
   "execution_count": 13,
   "id": "931b7497",
   "metadata": {},
   "outputs": [],
   "source": [
    "from urllib.request import urlopen"
   ]
  },
  {
   "cell_type": "code",
   "execution_count": 14,
   "id": "6c135c20",
   "metadata": {},
   "outputs": [
    {
     "name": "stdout",
     "output_type": "stream",
     "text": [
      "b'<!DOCTYPE html>\\n<html class=\\'v2\\' dir=\\'ltr\\' lang=\\'en-GB\\'>\\n<head>\\n<link href=\\'https://www.blogger.com/static/v1/widgets/2975350028-css_bundle_v2.css\\' rel=\\'stylesheet\\' type=\\'text/css\\'/>\\n<meta content=\\'width=1100\\' name=\\'viewport\\'/>\\n<meta content=\\'text/html; charset=UTF-8\\' http-equiv=\\'Content-Type\\'/>\\n<meta content=\\'blogger\\' name=\\'generator\\'/>\\n<link href=\\'https://petrolcalc.blogspot.com/favicon.ico\\' rel=\\'icon\\' type=\\'image/x-icon\\'/>\\n<link href=\\'http://petrolcalc.blogspot.com/2015/07/standing-and-katz-z-chart-reader.html\\' rel=\\'canonical\\'/>\\n<link rel=\"alternate\" type=\"application/atom+xml\" title=\"Petroleum Engineering Calculations - Atom\" href=\"https://petrolcalc.blogspot.com/feeds/posts/default\" />\\n<link rel=\"alternate\" type=\"application/rss+xml\" title=\"Petroleum Engineering Calculations - RSS\" href=\"https://petrolcalc.blogspot.com/feeds/posts/default?alt=rss\" />\\n<link rel=\"service.post\" type=\"application/atom+xml\" title=\"Petroleum Engineering Calculations - Atom\" href=\"https://www.blogger.com/feeds/3549060554509975349/posts/default\" />\\n\\n<link rel=\"alternate\" type=\"application/atom+xml\" title=\"Petroleum Engineering Calculations - Atom\" href=\"https://petrolcalc.blogspot.com/feeds/4149252869867957609/comments/default\" />\\n<!--[if IE]><script type=\"text/javascript\" src=\"https://www.blogger.com/static/v1/jsbin/2068738220-ieretrofit.js\"></script>\\n<![endif]-->\\n<meta content=\\'http://petrolcalc.blogspot.com/2015/07/standing-and-katz-z-chart-reader.html\\' property=\\'og:url\\'/>\\n<meta content=\\'Standing and Katz Z Chart Reader\\' property=\\'og:title\\'/>\\n<meta content=\\'  To use the Standing and Katz Z Chart Reader double click on the cells and enter values for Ppr and Tpr to 2 decimal places and then press ...\\' property=\\'og:description\\'/>\\n<!--[if IE]> <script> (function() { var html5 = (\"abbr,article,aside,audio,canvas,datalist,details,\" + \"figure,footer,header,hgroup,mark,menu,meter,nav,output,\" + \"progress,section,time,video\").split(\\',\\'); for (var i = 0; i < html5.length; i++) { document.createElement(html5[i]); } try { document.execCommand(\\'BackgroundImageCache\\', false, true); } catch(e) {} })(); </script> <![endif]-->\\n<title>Petroleum Engineering Calculations: Standing and Katz Z Chart Reader</title>\\n<style id=\\'page-skin-1\\' type=\\'text/css\\'><!--\\n/*\\n-----------------------------------------------\\nBlogger Template Style\\nName:     Simple\\nDesigner: Blogger\\nURL:      www.blogger.com\\n----------------------------------------------- */\\n/* Content\\n----------------------------------------------- */\\nbody {\\nfont: normal normal 12px Arial, Tahoma, Helvetica, FreeSans, sans-serif;\\ncolor: #222222;\\nbackground: #eeaa00 none repeat scroll top left;\\npadding: 0 40px 40px 40px;\\n}\\nhtml body .region-inner {\\nmin-width: 0;\\nmax-width: 100%;\\nwidth: auto;\\n}\\nh2 {\\nfont-size: 22px;\\n}\\na:link {\\ntext-decoration:none;\\ncolor: #cc6611;\\n}\\na:visited {\\ntext-decoration:none;\\ncolor: #888888;\\n}\\na:hover {\\ntext-decoration:underline;\\ncolor: #ff9900;\\n}\\n.body-fauxcolumn-outer .fauxcolumn-inner {\\nbackground: transparent url(https://resources.blogblog.com/blogblog/data/1kt/simple/body_gradient_tile_light.png) repeat scroll top left;\\n_background-image: none;\\n}\\n.body-fauxcolumn-outer .cap-top {\\nposition: absolute;\\nz-index: 1;\\nheight: 400px;\\nwidth: 100%;\\n}\\n.body-fauxcolumn-outer .cap-top .cap-left {\\nwidth: 100%;\\nbackground: transparent url(https://resources.blogblog.com/blogblog/data/1kt/simple/gradients_light.png) repeat-x scroll top left;\\n_background-image: none;\\n}\\n.content-outer {\\n-moz-box-shadow: 0 0 40px rgba(0, 0, 0, .15);\\n-webkit-box-shadow: 0 0 5px rgba(0, 0, 0, .15);\\n-goog-ms-box-shadow: 0 0 10px #333333;\\nbox-shadow: 0 0 40px rgba(0, 0, 0, .15);\\nmargin-bottom: 1px;\\n}\\n.content-inner {\\npadding: 10px 10px;\\n}\\n.content-inner {\\nbackground-color: #ffffff;\\n}\\n/* Header\\n----------------------------------------------- */\\n.header-outer {\\nbackground: #cc6611 url(//www.blogblog.com/1kt/simple/gradients_light.png) repeat-x scroll 0 -400px;\\n_background-image: none;\\n}\\n.Header h1 {\\nfont: normal normal 60px Arial, Tahoma, Helvetica, FreeSans, sans-serif;\\ncolor: #ffffff;\\ntext-shadow: 1px 2px 3px rgba(0, 0, 0, .2);\\n}\\n.Header h1 a {\\ncolor: #ffffff;\\n}\\n.Header .description {\\nfont-size: 140%;\\ncolor: #ffffff;\\n}\\n.header-inner .Header .titlewrapper {\\npadding: 22px 30px;\\n}\\n.header-inner .Header .descriptionwrapper {\\npadding: 0 30px;\\n}\\n/* Tabs\\n----------------------------------------------- */\\n.tabs-inner .section:first-child {\\nborder-top: 0 solid #eeeeee;\\n}\\n.tabs-inner .section:first-child ul {\\nmargin-top: -0;\\nborder-top: 0 solid #eeeeee;\\nborder-left: 0 solid #eeeeee;\\nborder-right: 0 solid #eeeeee;\\n}\\n.tabs-inner .widget ul {\\nbackground: #f5f5f5 url(https://resources.blogblog.com/blogblog/data/1kt/simple/gradients_light.png) repeat-x scroll 0 -800px;\\n_background-image: none;\\nborder-bottom: 1px solid #eeeeee;\\nmargin-top: 0;\\nmargin-left: -30px;\\nmargin-right: -30px;\\n}\\n.tabs-inner .widget li a {\\ndisplay: inline-block;\\npadding: .6em 1em;\\nfont: normal normal 14px Arial, Tahoma, Helvetica, FreeSans, sans-serif;\\ncolor: #999999;\\nborder-left: 1px solid #ffffff;\\nborder-right: 1px solid #eeeeee;\\n}\\n.tabs-inner .widget li:first-child a {\\nborder-left: none;\\n}\\n.tabs-inner .widget li.selected a, .tabs-inner .widget li a:hover {\\ncolor: #000000;\\nbackground-color: #eeeeee;\\ntext-decoration: none;\\n}\\n/* Columns\\n----------------------------------------------- */\\n.main-outer {\\nborder-top: 0 solid #eeeeee;\\n}\\n.fauxcolumn-left-outer .fauxcolumn-inner {\\nborder-right: 1px solid #eeeeee;\\n}\\n.fauxcolumn-right-outer .fauxcolumn-inner {\\nborder-left: 1px solid #eeeeee;\\n}\\n/* Headings\\n----------------------------------------------- */\\ndiv.widget > h2,\\ndiv.widget h2.title {\\nmargin: 0 0 1em 0;\\nfont: normal bold 11px Arial, Tahoma, Helvetica, FreeSans, sans-serif;\\ncolor: #000000;\\n}\\n/* Widgets\\n----------------------------------------------- */\\n.widget .zippy {\\ncolor: #999999;\\ntext-shadow: 2px 2px 1px rgba(0, 0, 0, .1);\\n}\\n.widget .popular-posts ul {\\nlist-style: none;\\n}\\n/* Posts\\n----------------------------------------------- */\\nh2.date-header {\\nfont: normal bold 11px Arial, Tahoma, Helvetica, FreeSans, sans-serif;\\n}\\n.date-header span {\\nbackground-color: transparent;\\ncolor: #222222;\\npadding: inherit;\\nletter-spacing: inherit;\\nmargin: inherit;\\n}\\n.main-inner {\\npadding-top: 30px;\\npadding-bottom: 30px;\\n}\\n.main-inner .column-center-inner {\\npadding: 0 15px;\\n}\\n.main-inner .column-center-inner .section {\\nmargin: 0 15px;\\n}\\n.post {\\nmargin: 0 0 25px 0;\\n}\\nh3.post-title, .comments h4 {\\nfont: normal normal 22px Arial, Tahoma, Helvetica, FreeSans, sans-serif;\\nmargin: .75em 0 0;\\n}\\n.post-body {\\nfont-size: 110%;\\nline-height: 1.4;\\nposition: relative;\\n}\\n.post-body img, .post-body .tr-caption-container, .Profile img, .Image img,\\n.BlogList .item-thumbnail img {\\npadding: 2px;\\nbackground: #ffffff;\\nborder: 1px solid #eeeeee;\\n-moz-box-shadow: 1px 1px 5px rgba(0, 0, 0, .1);\\n-webkit-box-shadow: 1px 1px 5px rgba(0, 0, 0, .1);\\nbox-shadow: 1px 1px 5px rgba(0, 0, 0, .1);\\n}\\n.post-body img, .post-body .tr-caption-container {\\npadding: 5px;\\n}\\n.post-body .tr-caption-container {\\ncolor: #222222;\\n}\\n.post-body .tr-caption-container img {\\npadding: 0;\\nbackground: transparent;\\nborder: none;\\n-moz-box-shadow: 0 0 0 rgba(0, 0, 0, .1);\\n-webkit-box-shadow: 0 0 0 rgba(0, 0, 0, .1);\\nbox-shadow: 0 0 0 rgba(0, 0, 0, .1);\\n}\\n.post-header {\\nmargin: 0 0 1.5em;\\nline-height: 1.6;\\nfont-size: 90%;\\n}\\n.post-footer {\\nmargin: 20px -2px 0;\\npadding: 5px 10px;\\ncolor: #666666;\\nbackground-color: #f9f9f9;\\nborder-bottom: 1px solid #eeeeee;\\nline-height: 1.6;\\nfont-size: 90%;\\n}\\n#comments .comment-author {\\npadding-top: 1.5em;\\nborder-top: 1px solid #eeeeee;\\nbackground-position: 0 1.5em;\\n}\\n#comments .comment-author:first-child {\\npadding-top: 0;\\nborder-top: none;\\n}\\n.avatar-image-container {\\nmargin: .2em 0 0;\\n}\\n#comments .avatar-image-container img {\\nborder: 1px solid #eeeeee;\\n}\\n/* Comments\\n----------------------------------------------- */\\n.comments .comments-content .icon.blog-author {\\nbackground-repeat: no-repeat;\\nbackground-image: url(data:image/png;base64,iVBORw0KGgoAAAANSUhEUgAAABIAAAASCAYAAABWzo5XAAAAAXNSR0IArs4c6QAAAAZiS0dEAP8A/wD/oL2nkwAAAAlwSFlzAAALEgAACxIB0t1+/AAAAAd0SU1FB9sLFwMeCjjhcOMAAAD+SURBVDjLtZSvTgNBEIe/WRRnm3U8RC1neQdsm1zSBIU9VVF1FkUguQQsD9ITmD7ECZIJSE4OZo9stoVjC/zc7ky+zH9hXwVwDpTAWWLrgS3QAe8AZgaAJI5zYAmc8r0G4AHYHQKVwII8PZrZFsBFkeRCABYiMh9BRUhnSkPTNCtVXYXURi1FpBDgArj8QU1eVXUzfnjv7yP7kwu1mYrkWlU33vs1QNu2qU8pwN0UpKoqokjWwCztrMuBhEhmh8bD5UDqur75asbcX0BGUB9/HAMB+r32hznJgXy2v0sGLBcyAJ1EK3LFcbo1s91JeLwAbwGYu7TP/3ZGfnXYPgAVNngtqatUNgAAAABJRU5ErkJggg==);\\n}\\n.comments .comments-content .loadmore a {\\nborder-top: 1px solid #999999;\\nborder-bottom: 1px solid #999999;\\n}\\n.comments .comment-thread.inline-thread {\\nbackground-color: #f9f9f9;\\n}\\n.comments .continue {\\nborder-top: 2px solid #999999;\\n}\\n/* Accents\\n---------------------------------------------- */\\n.section-columns td.columns-cell {\\nborder-left: 1px solid #eeeeee;\\n}\\n.blog-pager {\\nbackground: transparent none no-repeat scroll top center;\\n}\\n.blog-pager-older-link, .home-link,\\n.blog-pager-newer-link {\\nbackground-color: #ffffff;\\npadding: 5px;\\n}\\n.footer-outer {\\nborder-top: 0 dashed #bbbbbb;\\n}\\n/* Mobile\\n----------------------------------------------- */\\nbody.mobile  {\\nbackground-size: auto;\\n}\\n.mobile .body-fauxcolumn-outer {\\nbackground: transparent none repeat scroll top left;\\n}\\n.mobile .body-fauxcolumn-outer .cap-top {\\nbackground-size: 100% auto;\\n}\\n.mobile .content-outer {\\n-webkit-box-shadow: 0 0 3px rgba(0, 0, 0, .15);\\nbox-shadow: 0 0 3px rgba(0, 0, 0, .15);\\n}\\n.mobile .tabs-inner .widget ul {\\nmargin-left: 0;\\nmargin-right: 0;\\n}\\n.mobile .post {\\nmargin: 0;\\n}\\n.mobile .main-inner .column-center-inner .section {\\nmargin: 0;\\n}\\n.mobile .date-header span {\\npadding: 0.1em 10px;\\nmargin: 0 -10px;\\n}\\n.mobile h3.post-title {\\nmargin: 0;\\n}\\n.mobile .blog-pager {\\nbackground: transparent none no-repeat scroll top center;\\n}\\n.mobile .footer-outer {\\nborder-top: none;\\n}\\n.mobile .main-inner, .mobile .footer-inner {\\nbackground-color: #ffffff;\\n}\\n.mobile-index-contents {\\ncolor: #222222;\\n}\\n.mobile-link-button {\\nbackground-color: #cc6611;\\n}\\n.mobile-link-button a:link, .mobile-link-button a:visited {\\ncolor: #ffffff;\\n}\\n.mobile .tabs-inner .section:first-child {\\nborder-top: none;\\n}\\n.mobile .tabs-inner .PageList .widget-content {\\nbackground-color: #eeeeee;\\ncolor: #000000;\\nborder-top: 1px solid #eeeeee;\\nborder-bottom: 1px solid #eeeeee;\\n}\\n.mobile .tabs-inner .PageList .widget-content .pagelist-arrow {\\nborder-left: 1px solid #eeeeee;\\n}\\n\\n--></style>\\n<style id=\\'template-skin-1\\' type=\\'text/css\\'><!--\\nbody {\\nmin-width: 960px;\\n}\\n.content-outer, .content-fauxcolumn-outer, .region-inner {\\nmin-width: 960px;\\nmax-width: 960px;\\n_width: 960px;\\n}\\n.main-inner .columns {\\npadding-left: 0px;\\npadding-right: 310px;\\n}\\n.main-inner .fauxcolumn-center-outer {\\nleft: 0px;\\nright: 310px;\\n/* IE6 does not respect left and right together */\\n_width: expression(this.parentNode.offsetWidth -\\nparseInt(\"0px\") -\\nparseInt(\"310px\") + \\'px\\');\\n}\\n.main-inner .fauxcolumn-left-outer {\\nwidth: 0px;\\n}\\n.main-inner .fauxcolumn-right-outer {\\nwidth: 310px;\\n}\\n.main-inner .column-left-outer {\\nwidth: 0px;\\nright: 100%;\\nmargin-left: -0px;\\n}\\n.main-inner .column-right-outer {\\nwidth: 310px;\\nmargin-right: -310px;\\n}\\n#layout {\\nmin-width: 0;\\n}\\n#layout .content-outer {\\nmin-width: 0;\\nwidth: 800px;\\n}\\n#layout .region-inner {\\nmin-width: 0;\\nwidth: auto;\\n}\\nbody#layout div.add_widget {\\npadding: 8px;\\n}\\nbody#layout div.add_widget a {\\nmargin-left: 32px;\\n}\\n--></style>\\n<link href=\\'https://www.blogger.com/dyn-css/authorization.css?targetBlogID=3549060554509975349&amp;zx=8e9428a9-bec0-4ad9-9bee-edbf9ef3c2d8\\' media=\\'none\\' onload=\\'if(media!=&#39;all&#39;)media=&#39;all&#39;\\' rel=\\'stylesheet\\'/><noscript><link href=\\'https://www.blogger.com/dyn-css/authorization.css?targetBlogID=3549060554509975349&amp;zx=8e9428a9-bec0-4ad9-9bee-edbf9ef3c2d8\\' rel=\\'stylesheet\\'/></noscript>\\n<meta name=\\'google-adsense-platform-account\\' content=\\'ca-host-pub-1556223355139109\\'/>\\n<meta name=\\'google-adsense-platform-domain\\' content=\\'blogspot.com\\'/>\\n\\n</head>\\n<body class=\\'loading variant-bold\\'>\\n<div class=\\'navbar section\\' id=\\'navbar\\' name=\\'Navbar\\'><div class=\\'widget Navbar\\' data-version=\\'1\\' id=\\'Navbar1\\'><script type=\"text/javascript\">\\n    function setAttributeOnload(object, attribute, val) {\\n      if(window.addEventListener) {\\n        window.addEventListener(\\'load\\',\\n          function(){ object[attribute] = val; }, false);\\n      } else {\\n        window.attachEvent(\\'onload\\', function(){ object[attribute] = val; });\\n      }\\n    }\\n  </script>\\n<div id=\"navbar-iframe-container\"></div>\\n<script type=\"text/javascript\" src=\"https://apis.google.com/js/plusone.js\"></script>\\n<script type=\"text/javascript\">\\n      gapi.load(\"gapi.iframes:gapi.iframes.style.bubble\", function() {\\n        if (gapi.iframes && gapi.iframes.getContext) {\\n          gapi.iframes.getContext().openChild({\\n              url: \\'https://www.blogger.com/navbar.g?targetBlogID\\\\x3d3549060554509975349\\\\x26blogName\\\\x3dPetroleum+Engineering+Calculations\\\\x26publishMode\\\\x3dPUBLISH_MODE_BLOGSPOT\\\\x26navbarType\\\\x3dLIGHT\\\\x26layoutType\\\\x3dLAYOUTS\\\\x26searchRoot\\\\x3dhttps://petrolcalc.blogspot.com/search\\\\x26blogLocale\\\\x3den_GB\\\\x26v\\\\x3d2\\\\x26homepageUrl\\\\x3dhttps://petrolcalc.blogspot.com/\\\\x26targetPostID\\\\x3d4149252869867957609\\\\x26blogPostOrPageUrl\\\\x3dhttps://petrolcalc.blogspot.com/2015/07/standing-and-katz-z-chart-reader.html\\\\x26vt\\\\x3d-4610056172073718559\\',\\n              where: document.getElementById(\"navbar-iframe-container\"),\\n              id: \"navbar-iframe\"\\n          });\\n        }\\n      });\\n    </script><script type=\"text/javascript\">\\n(function() {\\nvar script = document.createElement(\\'script\\');\\nscript.type = \\'text/javascript\\';\\nscript.src = \\'//pagead2.googlesyndication.com/pagead/js/google_top_exp.js\\';\\nvar head = document.getElementsByTagName(\\'head\\')[0];\\nif (head) {\\nhead.appendChild(script);\\n}})();\\n</script>\\n</div></div>\\n<div class=\\'body-fauxcolumns\\'>\\n<div class=\\'fauxcolumn-outer body-fauxcolumn-outer\\'>\\n<div class=\\'cap-top\\'>\\n<div class=\\'cap-left\\'></div>\\n<div class=\\'cap-right\\'></div>\\n</div>\\n<div class=\\'fauxborder-left\\'>\\n<div class=\\'fauxborder-right\\'></div>\\n<div class=\\'fauxcolumn-inner\\'>\\n</div>\\n</div>\\n<div class=\\'cap-bottom\\'>\\n<div class=\\'cap-left\\'></div>\\n<div class=\\'cap-right\\'></div>\\n</div>\\n</div>\\n</div>\\n<div class=\\'content\\'>\\n<div class=\\'content-fauxcolumns\\'>\\n<div class=\\'fauxcolumn-outer content-fauxcolumn-outer\\'>\\n<div class=\\'cap-top\\'>\\n<div class=\\'cap-left\\'></div>\\n<div class=\\'cap-right\\'></div>\\n</div>\\n<div class=\\'fauxborder-left\\'>\\n<div class=\\'fauxborder-right\\'></div>\\n<div class=\\'fauxcolumn-inner\\'>\\n</div>\\n</div>\\n<div class=\\'cap-bottom\\'>\\n<div class=\\'cap-left\\'></div>\\n<div class=\\'cap-right\\'></div>\\n</div>\\n</div>\\n</div>\\n<div class=\\'content-outer\\'>\\n<div class=\\'content-cap-top cap-top\\'>\\n<div class=\\'cap-left\\'></div>\\n<div class=\\'cap-right\\'></div>\\n</div>\\n<div class=\\'fauxborder-left content-fauxborder-left\\'>\\n<div class=\\'fauxborder-right content-fauxborder-right\\'></div>\\n<div class=\\'content-inner\\'>\\n<header>\\n<div class=\\'header-outer\\'>\\n<div class=\\'header-cap-top cap-top\\'>\\n<div class=\\'cap-left\\'></div>\\n<div class=\\'cap-right\\'></div>\\n</div>\\n<div class=\\'fauxborder-left header-fauxborder-left\\'>\\n<div class=\\'fauxborder-right header-fauxborder-right\\'></div>\\n<div class=\\'region-inner header-inner\\'>\\n<div class=\\'header section\\' id=\\'header\\' name=\\'Header\\'><div class=\\'widget Header\\' data-version=\\'1\\' id=\\'Header1\\'>\\n<div id=\\'header-inner\\'>\\n<div class=\\'titlewrapper\\'>\\n<h1 class=\\'title\\'>\\n<a href=\\'https://petrolcalc.blogspot.com/\\'>\\nPetroleum Engineering Calculations\\n</a>\\n</h1>\\n</div>\\n<div class=\\'descriptionwrapper\\'>\\n<p class=\\'description\\'><span>\\n</span></p>\\n</div>\\n</div>\\n</div></div>\\n</div>\\n</div>\\n<div class=\\'header-cap-bottom cap-bottom\\'>\\n<div class=\\'cap-left\\'></div>\\n<div class=\\'cap-right\\'></div>\\n</div>\\n</div>\\n</header>\\n<div class=\\'tabs-outer\\'>\\n<div class=\\'tabs-cap-top cap-top\\'>\\n<div class=\\'cap-left\\'></div>\\n<div class=\\'cap-right\\'></div>\\n</div>\\n<div class=\\'fauxborder-left tabs-fauxborder-left\\'>\\n<div class=\\'fauxborder-right tabs-fauxborder-right\\'></div>\\n<div class=\\'region-inner tabs-inner\\'>\\n<div class=\\'tabs section\\' id=\\'crosscol\\' name=\\'Cross-column\\'><div class=\\'widget Text\\' data-version=\\'1\\' id=\\'Text1\\'>\\n<h2 class=\\'title\\'>News</h2>\\n<div class=\\'widget-content\\'>\\n<div    style=\"font-family:Arial, Tahoma, Helvetica, FreeSans, sans-serif;font-size:12px;color:#222222;\"><div    style=\"font-family:Georgia, serif;font-size:12px;color:#222222;\"><div    style=\"font-family:Georgia, serif;font-size:12px;color:#222222;\"><div    style=\"font-family:Georgia, serif;font-size:12px;color:#222222;\"><span style=\"font-family:Georgia, serif;color:#009900;\"><span style=\"line-height: 16.7999992370605px;\"><b><div class=\"fb-like\" data-action=\"like\" data-href=\"http://petrolcalc.blogspot.co.uk\" data-layout=\"standard\" data-share=\"true\" data-show-faces=\"true\"></div></b></span></span></div><div    style=\"font-family: Georgia, serif; font-size: 100%; font-style: normal; font-variant: normal; font-weight: normal; line-height: normal;font-family:Georgia, serif;font-size:12px;color:#222222;\"><span style=\"font-family:Georgia, serif;\"><span style=\"line-height: 16.7999992370605px;color:#009900;\"><b>These applications are fully functional on a Computer and some very high end phones.</b></span></span></div><div    style=\"font-family: Georgia, serif; font-size: 100%; font-style: normal; font-variant: normal; font-weight: normal; line-height: normal;font-family:Georgia, serif;font-size:12px;color:#222222;\"><span style=\"font-family:Georgia, serif;\"><span style=\"line-height: 16.7999992370605px;color:#009900;\"><b><br /></b></span></span></div><div    style=\"font-family: Georgia, serif; font-size: 100%; font-style: normal; font-variant: normal; font-weight: normal; line-height: normal;font-family:Georgia, serif;font-size:12px;color:#222222;\"><span style=\"font-family:Georgia, serif;\"><span style=\"line-height: 16.7999992370605px;color:#009900;\"><b>At the moment Compressibility Factor Chart Reader and Calculator is designed for the range 0.00 &#8805; Ppr &#8805; 8.00 and 1.40 &#8805; Tpr &#8805; 1.80.....They will be updated to full range soon.</b></span></span></div><div    style=\"font-family: Georgia, serif; font-size: 100%; font-style: normal; font-variant: normal; font-weight: normal; line-height: normal;font-family:Georgia, serif;font-size:12px;color:#222222;\"><span style=\"font-family:Georgia, serif;\"><span style=\"line-height: 16.7999992370605px;color:#009900;\"><b><br /></b></span></span></div><div    style=\"font-family: Georgia, serif; font-size: 100%; font-style: normal; font-variant: normal; font-weight: normal; line-height: normal;font-family:Georgia, serif;font-size:12px;color:#222222;\"><span style=\"font-family:Georgia, serif;\"><span style=\"line-height: 16.7999992370605px;color:#009900;\"><b>You can contact me on chiobiteahsppttato@yahoo.co.uk</b></span></span></div><div    style=\"font-family: Georgia, serif; font-size: 100%; font-style: normal; font-variant: normal; font-weight: normal; line-height: normal;font-family:Georgia, serif;font-size:12px;color:#222222;\"><span style=\"font-family:Georgia, serif;\"><span style=\"line-height: 16.7999992370605px;color:#009900;\"><b><br /></b></span></span></div><div color=\"#222222\" face=\"Georgia, serif\" size=\"12px\" style=\"font-family: Georgia, serif; font-size: 100%; font-style: normal; font-variant: normal; font-weight: normal; line-height: normal;\"><br /></div></div></div></div>\\n</div>\\n<div class=\\'clear\\'></div>\\n</div></div>\\n<div class=\\'tabs no-items section\\' id=\\'crosscol-overflow\\' name=\\'Cross-Column 2\\'></div>\\n</div>\\n</div>\\n<div class=\\'tabs-cap-bottom cap-bottom\\'>\\n<div class=\\'cap-left\\'></div>\\n<div class=\\'cap-right\\'></div>\\n</div>\\n</div>\\n<div class=\\'main-outer\\'>\\n<div class=\\'main-cap-top cap-top\\'>\\n<div class=\\'cap-left\\'></div>\\n<div class=\\'cap-right\\'></div>\\n</div>\\n<div class=\\'fauxborder-left main-fauxborder-left\\'>\\n<div class=\\'fauxborder-right main-fauxborder-right\\'></div>\\n<div class=\\'region-inner main-inner\\'>\\n<div class=\\'columns fauxcolumns\\'>\\n<div class=\\'fauxcolumn-outer fauxcolumn-center-outer\\'>\\n<div class=\\'cap-top\\'>\\n<div class=\\'cap-left\\'></div>\\n<div class=\\'cap-right\\'></div>\\n</div>\\n<div class=\\'fauxborder-left\\'>\\n<div class=\\'fauxborder-right\\'></div>\\n<div class=\\'fauxcolumn-inner\\'>\\n</div>\\n</div>\\n<div class=\\'cap-bottom\\'>\\n<div class=\\'cap-left\\'></div>\\n<div class=\\'cap-right\\'></div>\\n</div>\\n</div>\\n<div class=\\'fauxcolumn-outer fauxcolumn-left-outer\\'>\\n<div class=\\'cap-top\\'>\\n<div class=\\'cap-left\\'></div>\\n<div class=\\'cap-right\\'></div>\\n</div>\\n<div class=\\'fauxborder-left\\'>\\n<div class=\\'fauxborder-right\\'></div>\\n<div class=\\'fauxcolumn-inner\\'>\\n</div>\\n</div>\\n<div class=\\'cap-bottom\\'>\\n<div class=\\'cap-left\\'></div>\\n<div class=\\'cap-right\\'></div>\\n</div>\\n</div>\\n<div class=\\'fauxcolumn-outer fauxcolumn-right-outer\\'>\\n<div class=\\'cap-top\\'>\\n<div class=\\'cap-left\\'></div>\\n<div class=\\'cap-right\\'></div>\\n</div>\\n<div class=\\'fauxborder-left\\'>\\n<div class=\\'fauxborder-right\\'></div>\\n<div class=\\'fauxcolumn-inner\\'>\\n</div>\\n</div>\\n<div class=\\'cap-bottom\\'>\\n<div class=\\'cap-left\\'></div>\\n<div class=\\'cap-right\\'></div>\\n</div>\\n</div>\\n<!-- corrects IE6 width calculation -->\\n<div class=\\'columns-inner\\'>\\n<div class=\\'column-center-outer\\'>\\n<div class=\\'column-center-inner\\'>\\n<div class=\\'main section\\' id=\\'main\\' name=\\'Main\\'><div class=\\'widget Blog\\' data-version=\\'1\\' id=\\'Blog1\\'>\\n<div class=\\'blog-posts hfeed\\'>\\n\\n          <div class=\"date-outer\">\\n        \\n<h2 class=\\'date-header\\'><span>Tuesday, 7 July 2015</span></h2>\\n\\n          <div class=\"date-posts\">\\n        \\n<div class=\\'post-outer\\'>\\n<div class=\\'post hentry uncustomized-post-template\\' itemprop=\\'blogPost\\' itemscope=\\'itemscope\\' itemtype=\\'http://schema.org/BlogPosting\\'>\\n<meta content=\\'3549060554509975349\\' itemprop=\\'blogId\\'/>\\n<meta content=\\'4149252869867957609\\' itemprop=\\'postId\\'/>\\n<a name=\\'4149252869867957609\\'></a>\\n<h3 class=\\'post-title entry-title\\' itemprop=\\'name\\'>\\nStanding and Katz Z Chart Reader\\n</h3>\\n<div class=\\'post-header\\'>\\n<div class=\\'post-header-line-1\\'></div>\\n</div>\\n<div class=\\'post-body entry-content\\' id=\\'post-body-4149252869867957609\\' itemprop=\\'description articleBody\\'>\\n<b style=\"background-color: white; color: #222222; font-family: helvetica, arial, sans-serif; font-size: 14px; line-height: 19.3199996948242px;\"><br /></b>\\n<b style=\"background-color: white; color: #222222; font-family: helvetica, arial, sans-serif; font-size: 14px; line-height: 19.3199996948242px;\"><br /></b>\\n<b style=\"background-color: white; color: #222222; font-family: helvetica, arial, sans-serif; font-size: 14px; line-height: 19.3199996948242px;\">To use the Standing and Katz Z Chart Reader double click on the cells and enter values for Ppr and Tpr to 2 decimal places and then press enter or click on another cell.</b><br />\\n<br />\\n<br />\\n<iframe frameborder=\"0\" height=\"637\" scrolling=\"no\" src=\"https://onedrive.live.com/embed?cid=4EFE229295715F47&amp;resid=4EFE229295715F47%21134&amp;authkey=AENeGXN1lYYGNRM&amp;em=2&amp;wdAllowInteractivity=False&amp;AllowTyping=True&amp;Item=\\'Sheet1\\'!B2%3AD31&amp;wdHideGridlines=True\" width=\"406\"></iframe><a data-action=\"like\" data-href=\"http://petrolcalc.blogspot.co.uk\" data-layout=\"box_count\" data-share=\"true\" data-show-faces=\"true\" fb-like=\"\" href=\"https://www.blogger.com/%3Cdiv%20class=\"></a>\"&gt;\\n<a data-action=\"like\" data-href=\"http://petrolcalc.blogspot.co.uk\" data-layout=\"box_count\" data-share=\"true\" data-show-faces=\"true\" fb-like=\"\" href=\"http://%3Cdiv%20class%3D/\"></a>\"&gt;\\n<div style=\\'clear: both;\\'></div>\\n</div>\\n<div class=\\'post-footer\\'>\\n<div class=\\'post-footer-line post-footer-line-1\\'>\\n<span class=\\'post-author vcard\\'>\\nPosted by\\n<span class=\\'fn\\' itemprop=\\'author\\' itemscope=\\'itemscope\\' itemtype=\\'http://schema.org/Person\\'>\\n<meta content=\\'https://www.blogger.com/profile/04634626013402200843\\' itemprop=\\'url\\'/>\\n<a class=\\'g-profile\\' href=\\'https://www.blogger.com/profile/04634626013402200843\\' rel=\\'author\\' title=\\'author profile\\'>\\n<span itemprop=\\'name\\'>Unknown</span>\\n</a>\\n</span>\\n</span>\\n<span class=\\'post-timestamp\\'>\\nat\\n<meta content=\\'http://petrolcalc.blogspot.com/2015/07/standing-and-katz-z-chart-reader.html\\' itemprop=\\'url\\'/>\\n<a class=\\'timestamp-link\\' href=\\'https://petrolcalc.blogspot.com/2015/07/standing-and-katz-z-chart-reader.html\\' rel=\\'bookmark\\' title=\\'permanent link\\'><abbr class=\\'published\\' itemprop=\\'datePublished\\' title=\\'2015-07-07T06:41:00-07:00\\'>06:41</abbr></a>\\n</span>\\n<span class=\\'post-comment-link\\'>\\n</span>\\n<span class=\\'post-icons\\'>\\n<span class=\\'item-control blog-admin pid-587315656\\'>\\n<a href=\\'https://www.blogger.com/post-edit.g?blogID=3549060554509975349&postID=4149252869867957609&from=pencil\\' title=\\'Edit Post\\'>\\n<img alt=\\'\\' class=\\'icon-action\\' height=\\'18\\' src=\\'https://resources.blogblog.com/img/icon18_edit_allbkg.gif\\' width=\\'18\\'/>\\n</a>\\n</span>\\n</span>\\n<div class=\\'post-share-buttons goog-inline-block\\'>\\n<a class=\\'goog-inline-block share-button sb-email\\' href=\\'https://www.blogger.com/share-post.g?blogID=3549060554509975349&postID=4149252869867957609&target=email\\' target=\\'_blank\\' title=\\'Email This\\'><span class=\\'share-button-link-text\\'>Email This</span></a><a class=\\'goog-inline-block share-button sb-blog\\' href=\\'https://www.blogger.com/share-post.g?blogID=3549060554509975349&postID=4149252869867957609&target=blog\\' onclick=\\'window.open(this.href, \"_blank\", \"height=270,width=475\"); return false;\\' target=\\'_blank\\' title=\\'BlogThis!\\'><span class=\\'share-button-link-text\\'>BlogThis!</span></a><a class=\\'goog-inline-block share-button sb-twitter\\' href=\\'https://www.blogger.com/share-post.g?blogID=3549060554509975349&postID=4149252869867957609&target=twitter\\' target=\\'_blank\\' title=\\'Share to Twitter\\'><span class=\\'share-button-link-text\\'>Share to Twitter</span></a><a class=\\'goog-inline-block share-button sb-facebook\\' href=\\'https://www.blogger.com/share-post.g?blogID=3549060554509975349&postID=4149252869867957609&target=facebook\\' onclick=\\'window.open(this.href, \"_blank\", \"height=430,width=640\"); return false;\\' target=\\'_blank\\' title=\\'Share to Facebook\\'><span class=\\'share-button-link-text\\'>Share to Facebook</span></a><a class=\\'goog-inline-block share-button sb-pinterest\\' href=\\'https://www.blogger.com/share-post.g?blogID=3549060554509975349&postID=4149252869867957609&target=pinterest\\' target=\\'_blank\\' title=\\'Share to Pinterest\\'><span class=\\'share-button-link-text\\'>Share to Pinterest</span></a>\\n</div>\\n</div>\\n<div class=\\'post-footer-line post-footer-line-2\\'>\\n<span class=\\'post-labels\\'>\\n</span>\\n</div>\\n<div class=\\'post-footer-line post-footer-line-3\\'>\\n<span class=\\'post-location\\'>\\n</span>\\n</div>\\n</div>\\n</div>\\n<div class=\\'comments\\' id=\\'comments\\'>\\n<a name=\\'comments\\'></a>\\n<h4>No comments:</h4>\\n<div id=\\'Blog1_comments-block-wrapper\\'>\\n<dl class=\\'avatar-comment-indent\\' id=\\'comments-block\\'>\\n</dl>\\n</div>\\n<p class=\\'comment-footer\\'>\\n<div class=\\'comment-form\\'>\\n<a name=\\'comment-form\\'></a>\\n<h4 id=\\'comment-post-message\\'>Post a Comment</h4>\\n<p>\\n</p>\\n<a href=\\'https://www.blogger.com/comment/frame/3549060554509975349?po=4149252869867957609&hl=en-GB\\' id=\\'comment-editor-src\\'></a>\\n<iframe allowtransparency=\\'true\\' class=\\'blogger-iframe-colorize blogger-comment-from-post\\' frameborder=\\'0\\' height=\\'410px\\' id=\\'comment-editor\\' name=\\'comment-editor\\' src=\\'\\' width=\\'100%\\'></iframe>\\n<script src=\\'https://www.blogger.com/static/v1/jsbin/157798655-comment_from_post_iframe.js\\' type=\\'text/javascript\\'></script>\\n<script type=\\'text/javascript\\'>\\n      BLOG_CMT_createIframe(\\'https://www.blogger.com/rpc_relay.html\\');\\n    </script>\\n</div>\\n</p>\\n</div>\\n</div>\\n\\n        </div></div>\\n      \\n</div>\\n<div class=\\'blog-pager\\' id=\\'blog-pager\\'>\\n<span id=\\'blog-pager-newer-link\\'>\\n<a class=\\'blog-pager-newer-link\\' href=\\'https://petrolcalc.blogspot.com/2015/07/gas-material-balance.html\\' id=\\'Blog1_blog-pager-newer-link\\' title=\\'Newer Post\\'>Newer Post</a>\\n</span>\\n<span id=\\'blog-pager-older-link\\'>\\n<a class=\\'blog-pager-older-link\\' href=\\'https://petrolcalc.blogspot.com/2015/07/blog-post_7.html\\' id=\\'Blog1_blog-pager-older-link\\' title=\\'Older Post\\'>Older Post</a>\\n</span>\\n<a class=\\'home-link\\' href=\\'https://petrolcalc.blogspot.com/\\'>Home</a>\\n</div>\\n<div class=\\'clear\\'></div>\\n<div class=\\'post-feeds\\'>\\n<div class=\\'feed-links\\'>\\nSubscribe to:\\n<a class=\\'feed-link\\' href=\\'https://petrolcalc.blogspot.com/feeds/4149252869867957609/comments/default\\' target=\\'_blank\\' type=\\'application/atom+xml\\'>Post Comments (Atom)</a>\\n</div>\\n</div>\\n</div></div>\\n</div>\\n</div>\\n<div class=\\'column-left-outer\\'>\\n<div class=\\'column-left-inner\\'>\\n<aside>\\n</aside>\\n</div>\\n</div>\\n<div class=\\'column-right-outer\\'>\\n<div class=\\'column-right-inner\\'>\\n<aside>\\n<div class=\\'sidebar section\\' id=\\'sidebar-right-1\\'><div class=\\'widget Profile\\' data-version=\\'1\\' id=\\'Profile1\\'>\\n<h2>About Me</h2>\\n<div class=\\'widget-content\\'>\\n<dl class=\\'profile-datablock\\'>\\n<dt class=\\'profile-data\\'>\\n<a class=\\'profile-name-link g-profile\\' href=\\'https://www.blogger.com/profile/04634626013402200843\\' rel=\\'author\\' style=\\'background-image: url(//www.blogger.com/img/logo-16.png);\\'>\\nUnknown\\n</a>\\n</dt>\\n</dl>\\n<a class=\\'profile-link\\' href=\\'https://www.blogger.com/profile/04634626013402200843\\' rel=\\'author\\'>View my complete profile</a>\\n<div class=\\'clear\\'></div>\\n</div>\\n</div><div class=\\'widget BlogArchive\\' data-version=\\'1\\' id=\\'BlogArchive1\\'>\\n<h2>Blog Archive</h2>\\n<div class=\\'widget-content\\'>\\n<div id=\\'ArchiveList\\'>\\n<div id=\\'BlogArchive1_ArchiveList\\'>\\n<ul class=\\'hierarchy\\'>\\n<li class=\\'archivedate expanded\\'>\\n<a class=\\'toggle\\' href=\\'javascript:void(0)\\'>\\n<span class=\\'zippy toggle-open\\'>\\n\\n        &#9660;&#160;\\n      \\n</span>\\n</a>\\n<a class=\\'post-count-link\\' href=\\'https://petrolcalc.blogspot.com/2015/\\'>\\n2015\\n</a>\\n<span class=\\'post-count\\' dir=\\'ltr\\'>(5)</span>\\n<ul class=\\'hierarchy\\'>\\n<li class=\\'archivedate collapsed\\'>\\n<a class=\\'toggle\\' href=\\'javascript:void(0)\\'>\\n<span class=\\'zippy\\'>\\n\\n        &#9658;&#160;\\n      \\n</span>\\n</a>\\n<a class=\\'post-count-link\\' href=\\'https://petrolcalc.blogspot.com/2015/08/\\'>\\nAugust\\n</a>\\n<span class=\\'post-count\\' dir=\\'ltr\\'>(1)</span>\\n</li>\\n</ul>\\n<ul class=\\'hierarchy\\'>\\n<li class=\\'archivedate expanded\\'>\\n<a class=\\'toggle\\' href=\\'javascript:void(0)\\'>\\n<span class=\\'zippy toggle-open\\'>\\n\\n        &#9660;&#160;\\n      \\n</span>\\n</a>\\n<a class=\\'post-count-link\\' href=\\'https://petrolcalc.blogspot.com/2015/07/\\'>\\nJuly\\n</a>\\n<span class=\\'post-count\\' dir=\\'ltr\\'>(4)</span>\\n<ul class=\\'posts\\'>\\n<li><a href=\\'https://petrolcalc.blogspot.com/2015/07/multicomponent-flash-separation.html\\'>Multicomponent Flash Separation.</a></li>\\n<li><a href=\\'https://petrolcalc.blogspot.com/2015/07/gas-material-balance.html\\'>Original Gas In Place (OGIP) From Gas Material Bal...</a></li>\\n<li><a href=\\'https://petrolcalc.blogspot.com/2015/07/standing-and-katz-z-chart-reader.html\\'>Standing and Katz Z Chart Reader</a></li>\\n<li><a href=\\'https://petrolcalc.blogspot.com/2015/07/blog-post_7.html\\'>Compressibility Factor Calculator (For Sweet or So...</a></li>\\n</ul>\\n</li>\\n</ul>\\n</li>\\n</ul>\\n</div>\\n</div>\\n<div class=\\'clear\\'></div>\\n</div>\\n</div></div>\\n</aside>\\n</div>\\n</div>\\n</div>\\n<div style=\\'clear: both\\'></div>\\n<!-- columns -->\\n</div>\\n<!-- main -->\\n</div>\\n</div>\\n<div class=\\'main-cap-bottom cap-bottom\\'>\\n<div class=\\'cap-left\\'></div>\\n<div class=\\'cap-right\\'></div>\\n</div>\\n</div>\\n<footer>\\n<div class=\\'footer-outer\\'>\\n<div class=\\'footer-cap-top cap-top\\'>\\n<div class=\\'cap-left\\'></div>\\n<div class=\\'cap-right\\'></div>\\n</div>\\n<div class=\\'fauxborder-left footer-fauxborder-left\\'>\\n<div class=\\'fauxborder-right footer-fauxborder-right\\'></div>\\n<div class=\\'region-inner footer-inner\\'>\\n<div class=\\'foot no-items section\\' id=\\'footer-1\\'></div>\\n<table border=\\'0\\' cellpadding=\\'0\\' cellspacing=\\'0\\' class=\\'section-columns columns-2\\'>\\n<tbody>\\n<tr>\\n<td class=\\'first columns-cell\\'>\\n<div class=\\'foot no-items section\\' id=\\'footer-2-1\\'></div>\\n</td>\\n<td class=\\'columns-cell\\'>\\n<div class=\\'foot no-items section\\' id=\\'footer-2-2\\'></div>\\n</td>\\n</tr>\\n</tbody>\\n</table>\\n<!-- outside of the include in order to lock Attribution widget -->\\n<div class=\\'foot section\\' id=\\'footer-3\\' name=\\'Footer\\'><div class=\\'widget Attribution\\' data-version=\\'1\\' id=\\'Attribution1\\'>\\n<div class=\\'widget-content\\' style=\\'text-align: center;\\'>\\nSimple theme. Powered by <a href=\\'https://www.blogger.com\\' target=\\'_blank\\'>Blogger</a>.\\n</div>\\n<div class=\\'clear\\'></div>\\n</div></div>\\n</div>\\n</div>\\n<div class=\\'footer-cap-bottom cap-bottom\\'>\\n<div class=\\'cap-left\\'></div>\\n<div class=\\'cap-right\\'></div>\\n</div>\\n</div>\\n</footer>\\n<!-- content -->\\n</div>\\n</div>\\n<div class=\\'content-cap-bottom cap-bottom\\'>\\n<div class=\\'cap-left\\'></div>\\n<div class=\\'cap-right\\'></div>\\n</div>\\n</div>\\n</div>\\n<script type=\\'text/javascript\\'>\\n    window.setTimeout(function() {\\n        document.body.className = document.body.className.replace(\\'loading\\', \\'\\');\\n      }, 10);\\n  </script>\\n<script src=\\'https://apis.google.com/js/plusone.js\\' type=\\'text/javascript\\'></script>\\n\\n<script type=\"text/javascript\" src=\"https://www.blogger.com/static/v1/widgets/2283327557-widgets.js\"></script>\\n<script type=\\'text/javascript\\'>\\nwindow[\\'__wavt\\'] = \\'AOuZoY7aB5qOliNTRq_laXBiTdxx7Hkw6w:1653251145376\\';_WidgetManager._Init(\\'//www.blogger.com/rearrange?blogID\\\\x3d3549060554509975349\\',\\'//petrolcalc.blogspot.com/2015/07/standing-and-katz-z-chart-reader.html\\',\\'3549060554509975349\\');\\n_WidgetManager._SetDataContext([{\\'name\\': \\'blog\\', \\'data\\': {\\'blogId\\': \\'3549060554509975349\\', \\'title\\': \\'Petroleum Engineering Calculations\\', \\'url\\': \\'https://petrolcalc.blogspot.com/2015/07/standing-and-katz-z-chart-reader.html\\', \\'canonicalUrl\\': \\'http://petrolcalc.blogspot.com/2015/07/standing-and-katz-z-chart-reader.html\\', \\'homepageUrl\\': \\'https://petrolcalc.blogspot.com/\\', \\'searchUrl\\': \\'https://petrolcalc.blogspot.com/search\\', \\'canonicalHomepageUrl\\': \\'http://petrolcalc.blogspot.com/\\', \\'blogspotFaviconUrl\\': \\'https://petrolcalc.blogspot.com/favicon.ico\\', \\'bloggerUrl\\': \\'https://www.blogger.com\\', \\'hasCustomDomain\\': false, \\'httpsEnabled\\': true, \\'enabledCommentProfileImages\\': true, \\'gPlusViewType\\': \\'FILTERED_POSTMOD\\', \\'adultContent\\': false, \\'analyticsAccountNumber\\': \\'\\', \\'encoding\\': \\'UTF-8\\', \\'locale\\': \\'en-GB\\', \\'localeUnderscoreDelimited\\': \\'en_gb\\', \\'languageDirection\\': \\'ltr\\', \\'isPrivate\\': false, \\'isMobile\\': false, \\'isMobileRequest\\': false, \\'mobileClass\\': \\'\\', \\'isPrivateBlog\\': false, \\'isDynamicViewsAvailable\\': true, \\'feedLinks\\': \\'\\\\x3clink rel\\\\x3d\\\\x22alternate\\\\x22 type\\\\x3d\\\\x22application/atom+xml\\\\x22 title\\\\x3d\\\\x22Petroleum Engineering Calculations - Atom\\\\x22 href\\\\x3d\\\\x22https://petrolcalc.blogspot.com/feeds/posts/default\\\\x22 /\\\\x3e\\\\n\\\\x3clink rel\\\\x3d\\\\x22alternate\\\\x22 type\\\\x3d\\\\x22application/rss+xml\\\\x22 title\\\\x3d\\\\x22Petroleum Engineering Calculations - RSS\\\\x22 href\\\\x3d\\\\x22https://petrolcalc.blogspot.com/feeds/posts/default?alt\\\\x3drss\\\\x22 /\\\\x3e\\\\n\\\\x3clink rel\\\\x3d\\\\x22service.post\\\\x22 type\\\\x3d\\\\x22application/atom+xml\\\\x22 title\\\\x3d\\\\x22Petroleum Engineering Calculations - Atom\\\\x22 href\\\\x3d\\\\x22https://www.blogger.com/feeds/3549060554509975349/posts/default\\\\x22 /\\\\x3e\\\\n\\\\n\\\\x3clink rel\\\\x3d\\\\x22alternate\\\\x22 type\\\\x3d\\\\x22application/atom+xml\\\\x22 title\\\\x3d\\\\x22Petroleum Engineering Calculations - Atom\\\\x22 href\\\\x3d\\\\x22https://petrolcalc.blogspot.com/feeds/4149252869867957609/comments/default\\\\x22 /\\\\x3e\\\\n\\', \\'meTag\\': \\'\\', \\'adsenseHostId\\': \\'ca-host-pub-1556223355139109\\', \\'adsenseHasAds\\': false, \\'adsenseAutoAds\\': false, \\'ieCssRetrofitLinks\\': \\'\\\\x3c!--[if IE]\\\\x3e\\\\x3cscript type\\\\x3d\\\\x22text/javascript\\\\x22 src\\\\x3d\\\\x22https://www.blogger.com/static/v1/jsbin/2068738220-ieretrofit.js\\\\x22\\\\x3e\\\\x3c/script\\\\x3e\\\\n\\\\x3c![endif]--\\\\x3e\\', \\'boqCommentIframeForm\\': true, \\'loginRedirectParam\\': \\'\\', \\'view\\': \\'\\', \\'dynamicViewsCommentsSrc\\': \\'//www.blogblog.com/dynamicviews/4224c15c4e7c9321/js/comments.js\\', \\'dynamicViewsScriptSrc\\': \\'//www.blogblog.com/dynamicviews/4dd19e59bd125438\\', \\'plusOneApiSrc\\': \\'https://apis.google.com/js/plusone.js\\', \\'disableGComments\\': true, \\'sharing\\': {\\'platforms\\': [{\\'name\\': \\'Get link\\', \\'key\\': \\'link\\', \\'shareMessage\\': \\'Get link\\', \\'target\\': \\'\\'}, {\\'name\\': \\'Facebook\\', \\'key\\': \\'facebook\\', \\'shareMessage\\': \\'Share to Facebook\\', \\'target\\': \\'facebook\\'}, {\\'name\\': \\'BlogThis!\\', \\'key\\': \\'blogThis\\', \\'shareMessage\\': \\'BlogThis!\\', \\'target\\': \\'blog\\'}, {\\'name\\': \\'Twitter\\', \\'key\\': \\'twitter\\', \\'shareMessage\\': \\'Share to Twitter\\', \\'target\\': \\'twitter\\'}, {\\'name\\': \\'Pinterest\\', \\'key\\': \\'pinterest\\', \\'shareMessage\\': \\'Share to Pinterest\\', \\'target\\': \\'pinterest\\'}, {\\'name\\': \\'Email\\', \\'key\\': \\'email\\', \\'shareMessage\\': \\'Email\\', \\'target\\': \\'email\\'}], \\'disableGooglePlus\\': true, \\'googlePlusShareButtonWidth\\': 0, \\'googlePlusBootstrap\\': \\'\\\\x3cscript type\\\\x3d\\\\x22text/javascript\\\\x22\\\\x3ewindow.___gcfg \\\\x3d {\\\\x27lang\\\\x27: \\\\x27en_GB\\\\x27};\\\\x3c/script\\\\x3e\\'}, \\'hasCustomJumpLinkMessage\\': false, \\'jumpLinkMessage\\': \\'Read more\\', \\'pageType\\': \\'item\\', \\'postId\\': \\'4149252869867957609\\', \\'pageName\\': \\'Standing and Katz Z Chart Reader\\', \\'pageTitle\\': \\'Petroleum Engineering Calculations: Standing and Katz Z Chart Reader\\'}}, {\\'name\\': \\'features\\', \\'data\\': {\\'sharing_get_link_dialog\\': \\'true\\', \\'sharing_native\\': \\'false\\'}}, {\\'name\\': \\'messages\\', \\'data\\': {\\'edit\\': \\'Edit\\', \\'linkCopiedToClipboard\\': \\'Link copied to clipboard\\', \\'ok\\': \\'Ok\\', \\'postLink\\': \\'Post link\\'}}, {\\'name\\': \\'template\\', \\'data\\': {\\'name\\': \\'Simple\\', \\'localizedName\\': \\'Simple\\', \\'isResponsive\\': false, \\'isAlternateRendering\\': false, \\'isCustom\\': false, \\'variant\\': \\'bold\\', \\'variantId\\': \\'bold\\'}}, {\\'name\\': \\'view\\', \\'data\\': {\\'classic\\': {\\'name\\': \\'classic\\', \\'url\\': \\'?view\\\\x3dclassic\\'}, \\'flipcard\\': {\\'name\\': \\'flipcard\\', \\'url\\': \\'?view\\\\x3dflipcard\\'}, \\'magazine\\': {\\'name\\': \\'magazine\\', \\'url\\': \\'?view\\\\x3dmagazine\\'}, \\'mosaic\\': {\\'name\\': \\'mosaic\\', \\'url\\': \\'?view\\\\x3dmosaic\\'}, \\'sidebar\\': {\\'name\\': \\'sidebar\\', \\'url\\': \\'?view\\\\x3dsidebar\\'}, \\'snapshot\\': {\\'name\\': \\'snapshot\\', \\'url\\': \\'?view\\\\x3dsnapshot\\'}, \\'timeslide\\': {\\'name\\': \\'timeslide\\', \\'url\\': \\'?view\\\\x3dtimeslide\\'}, \\'isMobile\\': false, \\'title\\': \\'Standing and Katz Z Chart Reader\\', \\'description\\': \\'  To use the Standing and Katz Z Chart Reader double click on the cells and enter values for Ppr and Tpr to 2 decimal places and then press ...\\', \\'url\\': \\'https://petrolcalc.blogspot.com/2015/07/standing-and-katz-z-chart-reader.html\\', \\'type\\': \\'item\\', \\'isSingleItem\\': true, \\'isMultipleItems\\': false, \\'isError\\': false, \\'isPage\\': false, \\'isPost\\': true, \\'isHomepage\\': false, \\'isArchive\\': false, \\'isLabelSearch\\': false, \\'postId\\': 4149252869867957609}}]);\\n_WidgetManager._RegisterWidget(\\'_NavbarView\\', new _WidgetInfo(\\'Navbar1\\', \\'navbar\\', document.getElementById(\\'Navbar1\\'), {}, \\'displayModeFull\\'));\\n_WidgetManager._RegisterWidget(\\'_HeaderView\\', new _WidgetInfo(\\'Header1\\', \\'header\\', document.getElementById(\\'Header1\\'), {}, \\'displayModeFull\\'));\\n_WidgetManager._RegisterWidget(\\'_TextView\\', new _WidgetInfo(\\'Text1\\', \\'crosscol\\', document.getElementById(\\'Text1\\'), {}, \\'displayModeFull\\'));\\n_WidgetManager._RegisterWidget(\\'_BlogView\\', new _WidgetInfo(\\'Blog1\\', \\'main\\', document.getElementById(\\'Blog1\\'), {\\'cmtInteractionsEnabled\\': false, \\'lightboxEnabled\\': true, \\'lightboxModuleUrl\\': \\'https://www.blogger.com/static/v1/jsbin/2473335893-lbx__en_gb.js\\', \\'lightboxCssUrl\\': \\'https://www.blogger.com/static/v1/v-css/3523451998-lightbox_bundle.css\\'}, \\'displayModeFull\\'));\\n_WidgetManager._RegisterWidget(\\'_ProfileView\\', new _WidgetInfo(\\'Profile1\\', \\'sidebar-right-1\\', document.getElementById(\\'Profile1\\'), {}, \\'displayModeFull\\'));\\n_WidgetManager._RegisterWidget(\\'_BlogArchiveView\\', new _WidgetInfo(\\'BlogArchive1\\', \\'sidebar-right-1\\', document.getElementById(\\'BlogArchive1\\'), {\\'languageDirection\\': \\'ltr\\', \\'loadingMessage\\': \\'Loading\\\\x26hellip;\\'}, \\'displayModeFull\\'));\\n_WidgetManager._RegisterWidget(\\'_AttributionView\\', new _WidgetInfo(\\'Attribution1\\', \\'footer-3\\', document.getElementById(\\'Attribution1\\'), {}, \\'displayModeFull\\'));\\n</script>\\n</body>\\n</html>'\n"
     ]
    }
   ],
   "source": [
    "\n",
    "link = \"https://petrolcalc.blogspot.com/2015/07/standing-and-katz-z-chart-reader.html\"\n",
    "f = urllib.request.urlopen(link)\n",
    "myfile = f.read()\n",
    "print(myfile)"
   ]
  },
  {
   "cell_type": "code",
   "execution_count": null,
   "id": "1ce8ba81",
   "metadata": {},
   "outputs": [],
   "source": []
  }
 ],
 "metadata": {
  "kernelspec": {
   "display_name": "Python 3 (ipykernel)",
   "language": "python",
   "name": "python3"
  },
  "language_info": {
   "codemirror_mode": {
    "name": "ipython",
    "version": 3
   },
   "file_extension": ".py",
   "mimetype": "text/x-python",
   "name": "python",
   "nbconvert_exporter": "python",
   "pygments_lexer": "ipython3",
   "version": "3.9.7"
  }
 },
 "nbformat": 4,
 "nbformat_minor": 5
}
