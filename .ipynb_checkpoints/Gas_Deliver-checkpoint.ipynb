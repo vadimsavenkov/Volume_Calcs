{
 "cells": [
  {
   "cell_type": "markdown",
   "id": "d8fb688f",
   "metadata": {},
   "source": [
    "## Natural Gas Deliverability Problem"
   ]
  },
  {
   "cell_type": "code",
   "execution_count": 1,
   "id": "7a7b818a",
   "metadata": {},
   "outputs": [],
   "source": [
    "#The following information about a newly discovered sweet, dry gas pool in a Devonian reef is provided"
   ]
  },
  {
   "cell_type": "markdown",
   "id": "4319f17c",
   "metadata": {},
   "source": [
    "### Parameters"
   ]
  },
  {
   "cell_type": "code",
   "execution_count": null,
   "id": "73dce909",
   "metadata": {},
   "outputs": [],
   "source": [
    "# planimetered rock volume = 93,064 acre-feet (area = 6,400 acres) \n",
    "# weighted average pool porosity, φ = 23% \n",
    "# weighted average water saturation, Sw = 20% \n",
    "# average pool depth = 6,000 feet \n",
    "# initial reservoir pressure, pi = 2,600 psia \n",
    "# no gas analysis, but gas density, Yg = 0.65 "
   ]
  },
  {
   "cell_type": "code",
   "execution_count": null,
   "id": "7135d92c",
   "metadata": {},
   "outputs": [],
   "source": [
    "#The key difference between sweet and sour natural gas is that the sweet natural gas contains trace amounts of hydrogen sulfide,\n",
    "#whereas the sour natural gas contains large amounts of hydrogen sulfide. Moreover, sweet natural gas is non-corrosive, \n",
    "#less acidic, and requires little refining."
   ]
  },
  {
   "cell_type": "markdown",
   "id": "1c694954",
   "metadata": {},
   "source": [
    "### Calculate original raw gas-in-place and original recoverable raw gas-in-place."
   ]
  },
  {
   "cell_type": "code",
   "execution_count": 17,
   "id": "c67ec81f",
   "metadata": {},
   "outputs": [],
   "source": [
    "#Use Brown(1984) or Joshi(1991) correlation??\n",
    "\n",
    "def pseudocritical_parameters(gas_density):\n",
    "    Ppc = 708.75 - 57.5 * gas_density\n",
    "    Tpc = 169 + 314 * gas_density\n",
    "    return Ppc, Tpc"
   ]
  },
  {
   "cell_type": "code",
   "execution_count": 19,
   "id": "e392d7ac",
   "metadata": {},
   "outputs": [
    {
     "data": {
      "text/plain": [
       "(671.375, 373.1)"
      ]
     },
     "execution_count": 19,
     "metadata": {},
     "output_type": "execute_result"
    }
   ],
   "source": [
    "pseudocritical_parameters(0.65)"
   ]
  },
  {
   "cell_type": "code",
   "execution_count": null,
   "id": "4cc97f7c",
   "metadata": {},
   "outputs": [],
   "source": [
    "#Use Abandonment Pressure rule of thumb!\n",
    "\n",
    "#Pa = 35 psia + 35 psia of depth (Field) \n",
    "#1,000 feet \n",
    "#or \n",
    "#Pa = 240 kPaa + 80 kPaa of depth (SI) \n",
    "#100 m"
   ]
  },
  {
   "cell_type": "code",
   "execution_count": 20,
   "id": "b8c9ae15",
   "metadata": {},
   "outputs": [],
   "source": [
    "def abandonment_pressure(average_depth):\n",
    "    Pa = 35 + 35/1000 * average_depth\n",
    "    return Pa"
   ]
  },
  {
   "cell_type": "code",
   "execution_count": 26,
   "id": "6c083a3e",
   "metadata": {},
   "outputs": [
    {
     "name": "stdout",
     "output_type": "stream",
     "text": [
      "245.0 Psi\n"
     ]
    }
   ],
   "source": [
    "print(round(abandonment_pressure(6000),2), \"Psi\")"
   ]
  },
  {
   "cell_type": "code",
   "execution_count": 27,
   "id": "fe681ad8",
   "metadata": {},
   "outputs": [],
   "source": [
    "#Calculate pseudoreduced pressures and temperature\n",
    "#Use temperature gradients for reference depth(Tf = 150 °F, 610 °R)\n",
    "\n",
    "def pseudoreduced_initial_pressure(initial_res_pres, pseudocrit_pres):\n",
    "    Ppri = initial_res_pres/pseudocrit_pres\n",
    "    return Ppri\n",
    "\n",
    "def pseudoreduced_abandon_pressure(abandon_pres, pseudocrit_pres):\n",
    "    Ppra = abandon_pres/pseudocrit_pres\n",
    "    return Ppra"
   ]
  },
  {
   "cell_type": "code",
   "execution_count": 32,
   "id": "c91fb529",
   "metadata": {},
   "outputs": [
    {
     "name": "stdout",
     "output_type": "stream",
     "text": [
      "3.88 0.37\n"
     ]
    }
   ],
   "source": [
    "print(round(pseudoreduced_initial_pressure(2600, 670),2), round(pseudoreduced_abandon_pressure(245, 670),2))"
   ]
  },
  {
   "cell_type": "code",
   "execution_count": null,
   "id": "037ff5e9",
   "metadata": {},
   "outputs": [],
   "source": []
  }
 ],
 "metadata": {
  "kernelspec": {
   "display_name": "Python 3 (ipykernel)",
   "language": "python",
   "name": "python3"
  },
  "language_info": {
   "codemirror_mode": {
    "name": "ipython",
    "version": 3
   },
   "file_extension": ".py",
   "mimetype": "text/x-python",
   "name": "python",
   "nbconvert_exporter": "python",
   "pygments_lexer": "ipython3",
   "version": "3.9.7"
  }
 },
 "nbformat": 4,
 "nbformat_minor": 5
}
